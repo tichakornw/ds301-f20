{
 "cells": [
  {
   "cell_type": "markdown",
   "metadata": {},
   "source": [
    "**DS 301: Applied Data Modeling and Predictive Analysis**\n",
    "\n",
    "# Lab 9 – K-Mean Clustering\n",
    "\n",
    "Nok Wongpiromsarn, 30 October 2020\n",
    "\n",
    "**Credit:** https://github.com/asukul/DS301-f19/blob/master/Lab7_K_means_clustering_Brain_BodySize.ipynb by Adisak Sukul\n",
    "\n",
    "**Instructions:**\n",
    "1. Create a scatter plot and guess the number of clusters. Justify your guess.\n",
    "2. Train a K-Means clusterer, using the number of clusters from your guess in Step 1.\n",
    "3. Create a new scatter plot with a different color for each cluster. Show the centroids.\n",
    "4. Compute the silhouette score.\n",
    "5. Create a for loop to find best number of clusters based on the silhouette score.\n",
    "6. Create a plot of the number of clusters VS the sihouette score."
   ]
  },
  {
   "cell_type": "markdown",
   "metadata": {},
   "source": [
    "### 1. Create a scatter plot and guess the number of clusters."
   ]
  },
  {
   "cell_type": "code",
   "execution_count": null,
   "metadata": {},
   "outputs": [],
   "source": [
    "import pandas as pd\n",
    "\n",
    "df = pd.read_csv(\"datasets/brain-bodysize.csv\")\n",
    "df.info()"
   ]
  },
  {
   "cell_type": "markdown",
   "metadata": {},
   "source": [
    "### 2. Train a K-Means clusterer, using the number of clusters from your guess in Step 1."
   ]
  },
  {
   "cell_type": "markdown",
   "metadata": {},
   "source": [
    "### 3. Create a new scatter plot with a different color for each cluster. Show the centroids."
   ]
  },
  {
   "cell_type": "markdown",
   "metadata": {},
   "source": [
    "### 4. Compute the silhouette score."
   ]
  },
  {
   "cell_type": "markdown",
   "metadata": {},
   "source": [
    "### 5. Create a for loop to find best number of clusters based on the silhouette score."
   ]
  },
  {
   "cell_type": "code",
   "execution_count": null,
   "metadata": {},
   "outputs": [],
   "source": [
    "best_score = -1\n",
    "score_list = []\n",
    "n_clusters_list = range(2, 20)\n",
    "\n",
    "for n_clusters in n_clusters_list:\n",
    "    kmeans = KMeans(n_clusters=n_clusters)\n",
    "    kmeans.fit(X)\n",
    "    score = silhouette_score(X, kmeans.labels_)\n",
    "    score_list.append(score)\n",
    "    if score > best_score:\n",
    "        best_n_clusters = n_clusters\n",
    "        best_score = score\n",
    "\n",
    "print(\"Best number of clusters: {}\".format(best_n_clusters))\n",
    "print(\"Best score:              {}\".format(best_score))"
   ]
  },
  {
   "cell_type": "markdown",
   "metadata": {},
   "source": [
    "### 6. Create a plot of the number of clusters VS the sihouette score"
   ]
  }
 ],
 "metadata": {
  "kernelspec": {
   "display_name": "Python 3",
   "language": "python",
   "name": "python3"
  },
  "language_info": {
   "codemirror_mode": {
    "name": "ipython",
    "version": 3
   },
   "file_extension": ".py",
   "mimetype": "text/x-python",
   "name": "python",
   "nbconvert_exporter": "python",
   "pygments_lexer": "ipython3",
   "version": "3.8.3"
  }
 },
 "nbformat": 4,
 "nbformat_minor": 2
}
